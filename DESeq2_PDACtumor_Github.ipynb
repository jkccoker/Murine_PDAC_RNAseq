{
 "cells": [
  {
   "cell_type": "markdown",
   "id": "b04caf36",
   "metadata": {},
   "source": [
    "## Process RSEM data for DESeq2 import with tximport package"
   ]
  },
  {
   "cell_type": "code",
   "execution_count": null,
   "id": "df0e8ad1",
   "metadata": {},
   "outputs": [],
   "source": [
    "R.version"
   ]
  },
  {
   "cell_type": "code",
   "execution_count": null,
   "id": "cbd07686",
   "metadata": {},
   "outputs": [],
   "source": [
    "library(tximport)\n",
    "packageVersion(\"tximport\")"
   ]
  },
  {
   "cell_type": "code",
   "execution_count": null,
   "id": "b53835ad",
   "metadata": {},
   "outputs": [],
   "source": [
    "setwd(\"/home/RNAseq_tumors/RSEM_align_quant/\")"
   ]
  },
  {
   "cell_type": "code",
   "execution_count": null,
   "id": "2770c80c",
   "metadata": {},
   "outputs": [],
   "source": [
    "# Metadata file\n",
    "samples <- read.csv(\"metadata_samples.csv\", header = T)\n",
    "samples <- samples[1:18,]\n",
    "head(samples)\n",
    "dim(samples)"
   ]
  },
  {
   "cell_type": "code",
   "execution_count": null,
   "id": "c8310b69",
   "metadata": {},
   "outputs": [],
   "source": [
    "# Make list of files for import. For this analysis, .genes.results files from RSEM alignment are in </home/RNAseq_tumors/RSEM_align_quant/RSEM_quant_results/>. These files can be downloaded from GitHub.\n",
    "files <- file.path(getwd(), \"RSEM_quant_results\", list.files(\"RSEM_quant_results/\"))\n",
    "files\n",
    "\n",
    "# Name each item in list. These names are used for tximport sample naming, not the full file names.\n",
    "names(files) <- samples$Sample\n",
    "\n",
    "# Import as RSEM files. Set txIn = F and txOut = F for gene results. (Isoform results are txIn = T and txOut = T)\n",
    "txi.rsem <- tximport(files, type = \"rsem\", txIn = F, txOut = F)\n",
    "\n",
    "### txi.rsem object contains 3 tables (txi.rsem$counts, txi.rsem$length, txi.rsem$abundance)"
   ]
  },
  {
   "cell_type": "code",
   "execution_count": null,
   "id": "6411c69d",
   "metadata": {},
   "outputs": [],
   "source": [
    "## Some genes have \"length = 0\" in the txi.rsem object. Remove these rows from all tables in txi.rsem\n",
    "\n",
    "# Determine number of genes before removing any\n",
    "dim(txi.rsem$counts)\n",
    "\n",
    "# For each row, determine if the length value is zero\n",
    "row_sub <- apply(txi.rsem$length, 1, function(row) all(row !=0 ))\n",
    "\n",
    "# Subset each table in txi.rsem for these rows\n",
    "txi.rsem$length <- txi.rsem$length[row_sub,]\n",
    "txi.rsem$abundance <- txi.rsem$abundance[row_sub,]\n",
    "txi.rsem$counts <- txi.rsem$counts[row_sub,]"
   ]
  },
  {
   "cell_type": "code",
   "execution_count": null,
   "id": "20c809ba",
   "metadata": {},
   "outputs": [],
   "source": [
    "# Determine number of genes after removing those with length=0\n",
    "dim(txi.rsem$counts)\n",
    "\n",
    "# 55416-51078 = removed ~4000 genes"
   ]
  },
  {
   "cell_type": "markdown",
   "id": "924af9b3",
   "metadata": {},
   "source": [
    "## Import into DESeq2"
   ]
  },
  {
   "cell_type": "code",
   "execution_count": null,
   "id": "9784ade3",
   "metadata": {},
   "outputs": [],
   "source": [
    "library(DESeq2)\n",
    "packageVersion(\"DESeq2\")"
   ]
  },
  {
   "cell_type": "code",
   "execution_count": null,
   "id": "3cb96138",
   "metadata": {},
   "outputs": [],
   "source": [
    "### Make sampleTable from metadata table, with some reformatting\n",
    "sampleTable <- data.frame(Genotype = samples$Genotype, Line = samples$Line, Sex = samples$Sex)\n",
    "rownames(sampleTable) <- colnames(txi.rsem$counts)\n",
    "\n",
    "head(sampleTable)"
   ]
  },
  {
   "cell_type": "code",
   "execution_count": null,
   "id": "176f3bb1",
   "metadata": {},
   "outputs": [],
   "source": [
    "### Import data from txi.rsem into DESeq2\n",
    "dds_geno <- DESeqDataSetFromTximport(txi.rsem, sampleTable, ~ Line + Sex + Genotype)\n",
    "\n",
    "# The variable of interest is listed LAST in the formula. The variables before Genotype will be controlled for"
   ]
  },
  {
   "cell_type": "code",
   "execution_count": null,
   "id": "0928153a",
   "metadata": {},
   "outputs": [],
   "source": [
    "# Relevel the Genotype factors so that WT is the first/reference level\n",
    "dds_geno$Genotype <- relevel(dds_geno$Genotype, \"WT\")\n",
    "\n",
    "levels(dds_geno$Genotype)"
   ]
  },
  {
   "cell_type": "code",
   "execution_count": null,
   "id": "034cc112",
   "metadata": {},
   "outputs": [],
   "source": [
    "# Filter out genes with 0 or 1 counts across all samples\n",
    "nrow(dds_geno)\n",
    "\n",
    "keep <- rowSums(counts(dds_geno)) > 1\n",
    "dds_geno <- dds_geno[keep,]\n",
    "\n",
    "nrow(dds_geno)"
   ]
  },
  {
   "cell_type": "markdown",
   "id": "816caa9b",
   "metadata": {},
   "source": [
    "## Differential expression analysis"
   ]
  },
  {
   "cell_type": "code",
   "execution_count": null,
   "id": "f44ffc91",
   "metadata": {},
   "outputs": [],
   "source": [
    "# DESeq function runs differential expression pipeline on raw counts from dds. Estimates size factors (to control for differences in sequencing depth across samples), estimates dispersion values for each gene, and fits a generalized linear model.\n",
    "dds_geno_DE <- DESeq(dds_geno)"
   ]
  },
  {
   "cell_type": "code",
   "execution_count": null,
   "id": "71505d9c",
   "metadata": {},
   "outputs": [],
   "source": [
    "### Generate results table\n",
    "# contrast syntax = c(\"condition\", \"level_to_compare\", \"base_level\")\n",
    "\n",
    "contrast_geno <- c(\"Genotype\", \"H3KO\", \"WT\")\n",
    "results_geno <- results(dds_geno_DE, contrast = contrast_geno, alpha = 0.05)\n",
    "\n",
    "summary(results_geno)"
   ]
  },
  {
   "cell_type": "code",
   "execution_count": null,
   "id": "5b756791",
   "metadata": {},
   "outputs": [],
   "source": [
    "# Select for up-/down-regulated genes with p-adjusted cutoff of 0.05\n",
    "res.Sig_geno <- subset(results_geno, padj < 0.05)"
   ]
  },
  {
   "cell_type": "code",
   "execution_count": null,
   "id": "9e2e58ef",
   "metadata": {},
   "outputs": [],
   "source": [
    "# Export file with all genes and file with p-adjusted < 0.05. Order by log2-fold change magnitude.\n",
    "\n",
    "resOrdered <- results_geno[order(results_geno$log2FoldChange), ]\n",
    "write.csv(resOrdered, file = \"DESeq2_all.csv\")\n",
    "\n",
    "resOrdered.Sig <- res.Sig_geno[order(res.Sig_geno$log2FoldChange), ]\n",
    "write.csv(resOrdered.Sig, file = \"DESeq2_padj0.05.csv\")"
   ]
  }
 ],
 "metadata": {
  "kernelspec": {
   "display_name": "R",
   "language": "R",
   "name": "ir"
  },
  "language_info": {
   "codemirror_mode": "r",
   "file_extension": ".r",
   "mimetype": "text/x-r-source",
   "name": "R",
   "pygments_lexer": "r",
   "version": "4.1.3"
  }
 },
 "nbformat": 4,
 "nbformat_minor": 5
}
